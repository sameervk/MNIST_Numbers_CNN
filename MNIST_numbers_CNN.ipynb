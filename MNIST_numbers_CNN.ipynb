{
 "cells": [
  {
   "cell_type": "code",
   "execution_count": 1,
   "metadata": {
    "colab": {
     "base_uri": "https://localhost:8080/",
     "height": 17
    },
    "colab_type": "code",
    "id": "3xIYjWkuevuJ",
    "outputId": "11b190ec-8091-41fe-d47f-f50a7bb8f4c5"
   },
   "outputs": [
    {
     "data": {
      "text/html": [
       "<style>.container { width:100% !important; }</style>"
      ],
      "text/plain": [
       "<IPython.core.display.HTML object>"
      ]
     },
     "metadata": {
      "tags": []
     },
     "output_type": "display_data"
    }
   ],
   "source": [
    "from IPython.core.display import display, HTML\n",
    "display(HTML(\"<style>.container { width:100% !important; }</style>\"))"
   ]
  },
  {
   "cell_type": "markdown",
   "metadata": {
    "colab_type": "text",
    "id": "gb5SEBeyiHCj"
   },
   "source": [
    "# Convolutional Neural Networks for classifying handwritten digits using MNIST dataset"
   ]
  },
  {
   "cell_type": "markdown",
   "metadata": {
    "colab_type": "text",
    "id": "j4SrFnHRjhiC"
   },
   "source": [
    "* @Author: Sameer Kesava\n",
    "        * 2 Convolutional Layers    \n",
    "        * 2 Fully Connected Layers    \n",
    "        * Dropout for model robustness    \n",
    "        * Cross Entropy Loss function    \n",
    "        * Adam Optimizer    \n",
    "        * Batch size: 64\n",
    "        * Test data accuracy: 99.31%\n"
   ]
  },
  {
   "cell_type": "code",
   "execution_count": 2,
   "metadata": {
    "colab": {
     "base_uri": "https://localhost:8080/",
     "height": 143
    },
    "colab_type": "code",
    "id": "KFwYoMhpevuR",
    "outputId": "592f3105-e22f-4073-eac8-5f82e2d1af4b"
   },
   "outputs": [
    {
     "name": "stdout",
     "output_type": "stream",
     "text": [
      "Requirement already satisfied: mnist in /usr/local/lib/python2.7/dist-packages (0.2.2)\n",
      "Requirement already satisfied: mock; python_version == \"2.7\" in /usr/local/lib/python2.7/dist-packages (from mnist) (2.0.0)\n",
      "Requirement already satisfied: numpy in /usr/local/lib/python2.7/dist-packages (from mnist) (1.14.6)\n",
      "Requirement already satisfied: funcsigs>=1; python_version < \"3.3\" in /usr/local/lib/python2.7/dist-packages (from mock; python_version == \"2.7\"->mnist) (1.0.2)\n",
      "Requirement already satisfied: six>=1.9 in /usr/local/lib/python2.7/dist-packages (from mock; python_version == \"2.7\"->mnist) (1.11.0)\n",
      "Requirement already satisfied: pbr>=0.11 in /usr/local/lib/python2.7/dist-packages (from mock; python_version == \"2.7\"->mnist) (5.1.2)\n"
     ]
    }
   ],
   "source": [
    "# If running on cloud. Else download the dataset and ignore this\n",
    "!pip install mnist"
   ]
  },
  {
   "cell_type": "code",
   "execution_count": 0,
   "metadata": {
    "colab": {},
    "colab_type": "code",
    "id": "0TS90jUYoMUA"
   },
   "outputs": [],
   "source": []
  },
  {
   "cell_type": "markdown",
   "metadata": {
    "colab_type": "text",
    "id": "yUZO4_eaevuT"
   },
   "source": [
    "## Loading the data set"
   ]
  },
  {
   "cell_type": "code",
   "execution_count": 0,
   "metadata": {
    "colab": {},
    "colab_type": "code",
    "id": "TvLySYI5evuW"
   },
   "outputs": [],
   "source": [
    "import mnist"
   ]
  },
  {
   "cell_type": "code",
   "execution_count": 0,
   "metadata": {
    "colab": {},
    "colab_type": "code",
    "id": "ejzujxE_evuZ"
   },
   "outputs": [],
   "source": [
    "train_img = mnist.train_images()\n",
    "train_labels = mnist.train_labels()"
   ]
  },
  {
   "cell_type": "code",
   "execution_count": 0,
   "metadata": {
    "colab": {},
    "colab_type": "code",
    "id": "1mfouWXhevub"
   },
   "outputs": [],
   "source": [
    "test_img = mnist.test_images()\n",
    "test_labels = mnist.test_labels()"
   ]
  },
  {
   "cell_type": "code",
   "execution_count": 0,
   "metadata": {
    "colab": {},
    "colab_type": "code",
    "id": "dHKo7bxdevue"
   },
   "outputs": [],
   "source": []
  },
  {
   "cell_type": "markdown",
   "metadata": {
    "colab_type": "text",
    "id": "bNCc3A-fevuh"
   },
   "source": [
    "## Exploratory Data Analysis"
   ]
  },
  {
   "cell_type": "code",
   "execution_count": 6,
   "metadata": {
    "colab": {
     "base_uri": "https://localhost:8080/",
     "height": 35
    },
    "colab_type": "code",
    "id": "QLDvcFMSevui",
    "outputId": "43941ff5-f571-4f90-b8c4-b651d54fe7fd"
   },
   "outputs": [
    {
     "data": {
      "text/plain": [
       "dtype('int64')"
      ]
     },
     "execution_count": 6,
     "metadata": {
      "tags": []
     },
     "output_type": "execute_result"
    }
   ],
   "source": [
    "train_img.dtype"
   ]
  },
  {
   "cell_type": "code",
   "execution_count": 7,
   "metadata": {
    "colab": {
     "base_uri": "https://localhost:8080/",
     "height": 35
    },
    "colab_type": "code",
    "id": "1Z2gYtIsevum",
    "outputId": "8b5c86f8-e644-40c8-a29a-2f72a45dc768"
   },
   "outputs": [
    {
     "data": {
      "text/plain": [
       "numpy.ndarray"
      ]
     },
     "execution_count": 7,
     "metadata": {
      "tags": []
     },
     "output_type": "execute_result"
    }
   ],
   "source": [
    "type(train_img)"
   ]
  },
  {
   "cell_type": "code",
   "execution_count": 8,
   "metadata": {
    "colab": {
     "base_uri": "https://localhost:8080/",
     "height": 35
    },
    "colab_type": "code",
    "id": "bQGlhGvmevuq",
    "outputId": "2b6232be-1c1d-424c-d06d-e40c7d8bb15f"
   },
   "outputs": [
    {
     "data": {
      "text/plain": [
       "dtype('int64')"
      ]
     },
     "execution_count": 8,
     "metadata": {
      "tags": []
     },
     "output_type": "execute_result"
    }
   ],
   "source": [
    "train_labels.dtype"
   ]
  },
  {
   "cell_type": "code",
   "execution_count": 9,
   "metadata": {
    "colab": {
     "base_uri": "https://localhost:8080/",
     "height": 35
    },
    "colab_type": "code",
    "id": "YmPOob4Devuu",
    "outputId": "1abf0c85-36fc-4232-84ef-b64fbe058d3b"
   },
   "outputs": [
    {
     "data": {
      "text/plain": [
       "numpy.ndarray"
      ]
     },
     "execution_count": 9,
     "metadata": {
      "tags": []
     },
     "output_type": "execute_result"
    }
   ],
   "source": [
    "type(train_labels)"
   ]
  },
  {
   "cell_type": "code",
   "execution_count": 10,
   "metadata": {
    "colab": {
     "base_uri": "https://localhost:8080/",
     "height": 35
    },
    "colab_type": "code",
    "id": "uUYptNmmevux",
    "outputId": "98cbd669-fba5-4a37-f591-5bc6e035f612"
   },
   "outputs": [
    {
     "data": {
      "text/plain": [
       "(60000, 28, 28)"
      ]
     },
     "execution_count": 10,
     "metadata": {
      "tags": []
     },
     "output_type": "execute_result"
    }
   ],
   "source": [
    "train_img.shape"
   ]
  },
  {
   "cell_type": "code",
   "execution_count": 11,
   "metadata": {
    "colab": {
     "base_uri": "https://localhost:8080/",
     "height": 35
    },
    "colab_type": "code",
    "id": "gOL0p-MLevu1",
    "outputId": "64b07914-c302-4803-a05c-bc6f77e865bc"
   },
   "outputs": [
    {
     "data": {
      "text/plain": [
       "(60000,)"
      ]
     },
     "execution_count": 11,
     "metadata": {
      "tags": []
     },
     "output_type": "execute_result"
    }
   ],
   "source": [
    "train_labels.shape"
   ]
  },
  {
   "cell_type": "code",
   "execution_count": 0,
   "metadata": {
    "colab": {},
    "colab_type": "code",
    "id": "p2eC16LLevu4"
   },
   "outputs": [],
   "source": [
    "import numpy as np"
   ]
  },
  {
   "cell_type": "code",
   "execution_count": 13,
   "metadata": {
    "colab": {
     "base_uri": "https://localhost:8080/",
     "height": 35
    },
    "colab_type": "code",
    "id": "wuLjXi9Sevu7",
    "outputId": "68849dd6-5772-4ef1-b76d-c52bd2b22e4d"
   },
   "outputs": [
    {
     "data": {
      "text/plain": [
       "array([0, 1, 2, 3, 4, 5, 6, 7, 8, 9])"
      ]
     },
     "execution_count": 13,
     "metadata": {
      "tags": []
     },
     "output_type": "execute_result"
    }
   ],
   "source": [
    "y_unique = np.unique(train_labels)\n",
    "y_unique"
   ]
  },
  {
   "cell_type": "code",
   "execution_count": 14,
   "metadata": {
    "colab": {
     "base_uri": "https://localhost:8080/",
     "height": 35
    },
    "colab_type": "code",
    "id": "PEZUx_NEevvA",
    "outputId": "7a326f06-8ac5-4442-f696-a8c2875d44a2"
   },
   "outputs": [
    {
     "data": {
      "text/plain": [
       "(10000, 28, 28)"
      ]
     },
     "execution_count": 14,
     "metadata": {
      "tags": []
     },
     "output_type": "execute_result"
    }
   ],
   "source": [
    "test_img.shape"
   ]
  },
  {
   "cell_type": "code",
   "execution_count": 0,
   "metadata": {
    "colab": {},
    "colab_type": "code",
    "id": "9dQ5T7sxevvE"
   },
   "outputs": [],
   "source": []
  },
  {
   "cell_type": "code",
   "execution_count": 0,
   "metadata": {
    "colab": {},
    "colab_type": "code",
    "id": "3Np39JNGevvH"
   },
   "outputs": [],
   "source": [
    "import matplotlib.pyplot as plt"
   ]
  },
  {
   "cell_type": "code",
   "execution_count": 16,
   "metadata": {
    "colab": {
     "base_uri": "https://localhost:8080/",
     "height": 401
    },
    "colab_type": "code",
    "id": "AWZDTTrXevvN",
    "outputId": "85c0e580-c798-4166-e57b-8becd8cd5f04"
   },
   "outputs": [
    {
     "data": {
      "image/png": "[encoded data removed]",
      "text/plain": [
       "<Figure size 576x396 with 25 Axes>"
      ]
     },
     "metadata": {
      "tags": []
     },
     "output_type": "display_data"
    }
   ],
   "source": [
    "fig1, ax1 = plt.subplots(5,5)\n",
    "ax1 = ax1.flatten()\n",
    "\n",
    "for i in range(0,25):\n",
    "    ax1[i].imshow(train_img[i])\n",
    "    ax1[i].set_xticks([])\n",
    "    ax1[i].set_yticks([])\n",
    "\n",
    "fig1.tight_layout()\n",
    "plt.show()"
   ]
  },
  {
   "cell_type": "code",
   "execution_count": 17,
   "metadata": {
    "colab": {
     "base_uri": "https://localhost:8080/",
     "height": 35
    },
    "colab_type": "code",
    "id": "fr0xiBAPevvR",
    "outputId": "f726f525-1551-443e-b275-bee74e3a9316"
   },
   "outputs": [
    {
     "data": {
      "text/plain": [
       "5918"
      ]
     },
     "execution_count": 17,
     "metadata": {
      "tags": []
     },
     "output_type": "execute_result"
    }
   ],
   "source": [
    "len(train_img[train_labels == 6])"
   ]
  },
  {
   "cell_type": "code",
   "execution_count": 18,
   "metadata": {
    "colab": {
     "base_uri": "https://localhost:8080/",
     "height": 401
    },
    "colab_type": "code",
    "id": "fS-uMKGRevvU",
    "outputId": "a0d493dd-aaa8-49fd-e429-e7f4b0d8171f"
   },
   "outputs": [
    {
     "data": {
      "image/png": "[encoded data removed]",
      "text/plain": [
       "<Figure size 576x396 with 25 Axes>"
      ]
     },
     "metadata": {
      "tags": []
     },
     "output_type": "display_data"
    }
   ],
   "source": [
    "fig2, ax2 = plt.subplots(5,5)\n",
    "ax2 = ax2.flatten()\n",
    "\n",
    "for i in range(0,25):\n",
    "    ax2[i].imshow(train_img[train_labels==6][i])\n",
    "    ax2[i].set_xticks([])\n",
    "    ax2[i].set_yticks([])\n",
    "\n",
    "fig2.tight_layout()\n",
    "plt.show()"
   ]
  },
  {
   "cell_type": "code",
   "execution_count": 0,
   "metadata": {
    "colab": {},
    "colab_type": "code",
    "id": "ldJA6JaKevvY"
   },
   "outputs": [],
   "source": []
  },
  {
   "cell_type": "markdown",
   "metadata": {
    "colab_type": "text",
    "id": "bz8cIRdNevva"
   },
   "source": [
    "## Data Preprocessing"
   ]
  },
  {
   "cell_type": "markdown",
   "metadata": {
    "colab_type": "text",
    "id": "nUQ1dNepevvc"
   },
   "source": [
    "#### Creating training, validation and test data sets"
   ]
  },
  {
   "cell_type": "code",
   "execution_count": 19,
   "metadata": {
    "colab": {
     "base_uri": "https://localhost:8080/",
     "height": 35
    },
    "colab_type": "code",
    "id": "fWdR2-Y4evvc",
    "outputId": "35a26b86-b9c1-4f7a-872e-5a5c49526b1d"
   },
   "outputs": [
    {
     "data": {
      "text/plain": [
       "(60000, 784)"
      ]
     },
     "execution_count": 19,
     "metadata": {
      "tags": []
     },
     "output_type": "execute_result"
    }
   ],
   "source": [
    "X_train = train_img.reshape(-1, train_img.shape[1]*train_img.shape[2])\n",
    "X_train.shape"
   ]
  },
  {
   "cell_type": "code",
   "execution_count": 20,
   "metadata": {
    "colab": {
     "base_uri": "https://localhost:8080/",
     "height": 35
    },
    "colab_type": "code",
    "id": "RjCst4VOevvf",
    "outputId": "8ce57662-0729-4292-94dd-0f5cdf44c171"
   },
   "outputs": [
    {
     "data": {
      "text/plain": [
       "(10000, 784)"
      ]
     },
     "execution_count": 20,
     "metadata": {
      "tags": []
     },
     "output_type": "execute_result"
    }
   ],
   "source": [
    "X_test = test_img.reshape(-1, test_img.shape[1]*test_img.shape[2])\n",
    "X_test.shape"
   ]
  },
  {
   "cell_type": "markdown",
   "metadata": {
    "colab_type": "text",
    "id": "7dV7URwesHkH"
   },
   "source": [
    "##### Creating a shuffle object for shuffling the data "
   ]
  },
  {
   "cell_type": "code",
   "execution_count": 21,
   "metadata": {
    "colab": {
     "base_uri": "https://localhost:8080/",
     "height": 35
    },
    "colab_type": "code",
    "id": "-FRCe6R8U9CR",
    "outputId": "effb7743-ecc2-4682-9e88-a37bc7075202"
   },
   "outputs": [
    {
     "data": {
      "text/plain": [
       "60000"
      ]
     },
     "execution_count": 21,
     "metadata": {
      "tags": []
     },
     "output_type": "execute_result"
    }
   ],
   "source": [
    "#Creating a randomstate object for shuffling\n",
    "shuffler = np.random.RandomState(seed = 10)\n",
    "shuffled_idx = list(range(len(train_labels)))\n",
    "shuffler.shuffle(shuffled_idx)\n",
    "len(shuffled_idx)"
   ]
  },
  {
   "cell_type": "code",
   "execution_count": 22,
   "metadata": {
    "colab": {
     "base_uri": "https://localhost:8080/",
     "height": 35
    },
    "colab_type": "code",
    "id": "DsI1ueX4U9Bo",
    "outputId": "c65aafd3-4be3-4bb1-e0d1-aeb9b2963ec7"
   },
   "outputs": [
    {
     "data": {
      "text/plain": [
       "[4883, 28477, 8527, 38347, 3363, 36370, 6083, 34418, 18938, 17773]"
      ]
     },
     "execution_count": 22,
     "metadata": {
      "tags": []
     },
     "output_type": "execute_result"
    }
   ],
   "source": [
    "shuffled_idx[:10]"
   ]
  },
  {
   "cell_type": "code",
   "execution_count": 23,
   "metadata": {
    "colab": {
     "base_uri": "https://localhost:8080/",
     "height": 35
    },
    "colab_type": "code",
    "id": "1czPaws9U9BS",
    "outputId": "e56766e3-7844-47d4-ab26-005910cbf6ab"
   },
   "outputs": [
    {
     "data": {
      "text/plain": [
       "array([5, 0, 4, 1, 9, 2, 1, 3, 1, 4])"
      ]
     },
     "execution_count": 23,
     "metadata": {
      "tags": []
     },
     "output_type": "execute_result"
    }
   ],
   "source": [
    "train_labels[0:10]"
   ]
  },
  {
   "cell_type": "code",
   "execution_count": 24,
   "metadata": {
    "colab": {
     "base_uri": "https://localhost:8080/",
     "height": 35
    },
    "colab_type": "code",
    "id": "ZOCkpwvcU9A6",
    "outputId": "74585638-898e-405f-ddf3-03b2dc386b03"
   },
   "outputs": [
    {
     "data": {
      "text/plain": [
       "array([3, 5, 0, 6, 6, 9, 1, 1, 5, 6])"
      ]
     },
     "execution_count": 24,
     "metadata": {
      "tags": []
     },
     "output_type": "execute_result"
    }
   ],
   "source": [
    "train_labels[shuffled_idx[:10]]"
   ]
  },
  {
   "cell_type": "code",
   "execution_count": 0,
   "metadata": {
    "colab": {},
    "colab_type": "code",
    "id": "3_q5KPoOevv8"
   },
   "outputs": [],
   "source": [
    "# Splitting into training and validation features\n",
    "X_valid = X_train[shuffled_idx[:10000]]\n",
    "X_train = X_train[shuffled_idx[10000:]]"
   ]
  },
  {
   "cell_type": "code",
   "execution_count": 0,
   "metadata": {
    "colab": {},
    "colab_type": "code",
    "id": "dO-q9e4Bevv-"
   },
   "outputs": [],
   "source": [
    "# Splitting into training and validation labels\n",
    "y_valid = train_labels[shuffled_idx[:10000]]\n",
    "y_train = train_labels[shuffled_idx[10000:]]"
   ]
  },
  {
   "cell_type": "code",
   "execution_count": 27,
   "metadata": {
    "colab": {
     "base_uri": "https://localhost:8080/",
     "height": 35
    },
    "colab_type": "code",
    "id": "9kE5Pny5evwA",
    "outputId": "c12c7d25-e467-4131-9c90-3280beef1e02"
   },
   "outputs": [
    {
     "data": {
      "text/plain": [
       "(10000, 784)"
      ]
     },
     "execution_count": 27,
     "metadata": {
      "tags": []
     },
     "output_type": "execute_result"
    }
   ],
   "source": [
    "X_valid.shape"
   ]
  },
  {
   "cell_type": "code",
   "execution_count": 28,
   "metadata": {
    "colab": {
     "base_uri": "https://localhost:8080/",
     "height": 35
    },
    "colab_type": "code",
    "id": "o61xnHaqevwF",
    "outputId": "cc113821-60c5-4ca4-fdbd-6a082773f4aa"
   },
   "outputs": [
    {
     "data": {
      "text/plain": [
       "(50000, 784)"
      ]
     },
     "execution_count": 28,
     "metadata": {
      "tags": []
     },
     "output_type": "execute_result"
    }
   ],
   "source": [
    "X_train.shape"
   ]
  },
  {
   "cell_type": "code",
   "execution_count": 29,
   "metadata": {
    "colab": {
     "base_uri": "https://localhost:8080/",
     "height": 35
    },
    "colab_type": "code",
    "id": "VBpSzP8kevwI",
    "outputId": "d3b40e35-bfe2-4fcb-d7f4-4a06831d7f35"
   },
   "outputs": [
    {
     "data": {
      "text/plain": [
       "dtype('int64')"
      ]
     },
     "execution_count": 29,
     "metadata": {
      "tags": []
     },
     "output_type": "execute_result"
    }
   ],
   "source": [
    "X_train.dtype"
   ]
  },
  {
   "cell_type": "markdown",
   "metadata": {
    "colab_type": "text",
    "id": "Zl1oV8OvevwN"
   },
   "source": [
    "#### Scaling the data"
   ]
  },
  {
   "cell_type": "code",
   "execution_count": 30,
   "metadata": {
    "colab": {
     "base_uri": "https://localhost:8080/",
     "height": 35
    },
    "colab_type": "code",
    "id": "SZfzMX8SevwO",
    "outputId": "1abe2861-00cb-45e1-b2c6-48efd095f79d"
   },
   "outputs": [
    {
     "data": {
      "text/plain": [
       "(784,)"
      ]
     },
     "execution_count": 30,
     "metadata": {
      "tags": []
     },
     "output_type": "execute_result"
    }
   ],
   "source": [
    "# Mean along each column which is this case number 784\n",
    "mean_px = np.mean(X_train, axis=0)\n",
    "mean_px.shape"
   ]
  },
  {
   "cell_type": "code",
   "execution_count": 31,
   "metadata": {
    "colab": {
     "base_uri": "https://localhost:8080/",
     "height": 35
    },
    "colab_type": "code",
    "id": "QT6Qr13WevwT",
    "outputId": "769e1d1b-72dc-4645-b79a-bc6c6d538014"
   },
   "outputs": [
    {
     "data": {
      "text/plain": [
       "78.57456720917894"
      ]
     },
     "execution_count": 31,
     "metadata": {
      "tags": []
     },
     "output_type": "execute_result"
    }
   ],
   "source": [
    "# Standard deviation is calculated across the whole dataset because std across white spaces will be 0 leading to scaling to infinity\n",
    "std_px = np.std(X_train)\n",
    "std_px"
   ]
  },
  {
   "cell_type": "code",
   "execution_count": 32,
   "metadata": {
    "colab": {
     "base_uri": "https://localhost:8080/",
     "height": 35
    },
    "colab_type": "code",
    "id": "GDir9Ax4evwX",
    "outputId": "6c22dfc9-96f7-48cf-fd41-39d0e906b6a4"
   },
   "outputs": [
    {
     "data": {
      "text/plain": [
       "numpy.float64"
      ]
     },
     "execution_count": 32,
     "metadata": {
      "tags": []
     },
     "output_type": "execute_result"
    }
   ],
   "source": [
    "type(std_px)"
   ]
  },
  {
   "cell_type": "code",
   "execution_count": 33,
   "metadata": {
    "colab": {
     "base_uri": "https://localhost:8080/",
     "height": 35
    },
    "colab_type": "code",
    "id": "wdvmRzhXevwa",
    "outputId": "9a9344fd-f680-44f8-f17f-f8ba6b96753a"
   },
   "outputs": [
    {
     "data": {
      "text/plain": [
       "(50000, 784)"
      ]
     },
     "execution_count": 33,
     "metadata": {
      "tags": []
     },
     "output_type": "execute_result"
    }
   ],
   "source": [
    "X_train_scaled = (X_train - mean_px)/std_px\n",
    "X_train_scaled.shape"
   ]
  },
  {
   "cell_type": "code",
   "execution_count": 34,
   "metadata": {
    "colab": {
     "base_uri": "https://localhost:8080/",
     "height": 35
    },
    "colab_type": "code",
    "id": "Idwmmz6gVump",
    "outputId": "5a6e5fc2-c7d6-4a3a-d4db-7e845a992af1"
   },
   "outputs": [
    {
     "data": {
      "text/plain": [
       "dtype('float64')"
      ]
     },
     "execution_count": 34,
     "metadata": {
      "tags": []
     },
     "output_type": "execute_result"
    }
   ],
   "source": [
    "X_train_scaled.dtype"
   ]
  },
  {
   "cell_type": "code",
   "execution_count": 35,
   "metadata": {
    "colab": {
     "base_uri": "https://localhost:8080/",
     "height": 35
    },
    "colab_type": "code",
    "id": "97Adp5Ybevwf",
    "outputId": "1d8baba1-7d09-47c3-e3d1-5c3a0956f71d"
   },
   "outputs": [
    {
     "name": "stdout",
     "output_type": "stream",
     "text": [
      "('Min and Max of training set: ', 3.245019973463044, -1.779012025963416)\n"
     ]
    }
   ],
   "source": [
    "print('Min and Max of training set: ', np.max(X_train_scaled), np.min(X_train_scaled))"
   ]
  },
  {
   "cell_type": "code",
   "execution_count": 36,
   "metadata": {
    "colab": {
     "base_uri": "https://localhost:8080/",
     "height": 35
    },
    "colab_type": "code",
    "id": "3m7obD2devwh",
    "outputId": "20582dc1-7a72-4107-b5ea-5346c387861b"
   },
   "outputs": [
    {
     "data": {
      "text/plain": [
       "(10000, 784)"
      ]
     },
     "execution_count": 36,
     "metadata": {
      "tags": []
     },
     "output_type": "execute_result"
    }
   ],
   "source": [
    "X_valid_scaled = (X_valid - mean_px)/std_px\n",
    "X_valid_scaled.shape"
   ]
  },
  {
   "cell_type": "code",
   "execution_count": 37,
   "metadata": {
    "colab": {
     "base_uri": "https://localhost:8080/",
     "height": 35
    },
    "colab_type": "code",
    "id": "FL2KoleUevwl",
    "outputId": "ec45c2d5-5856-49f6-ecd6-4387fcbbc217"
   },
   "outputs": [
    {
     "name": "stdout",
     "output_type": "stream",
     "text": [
      "('Min and Max of validation set: ', 3.245019973463044, -1.779012025963416)\n"
     ]
    }
   ],
   "source": [
    "print('Min and Max of validation set: ', np.max(X_valid_scaled), np.min(X_valid_scaled))"
   ]
  },
  {
   "cell_type": "code",
   "execution_count": 38,
   "metadata": {
    "colab": {
     "base_uri": "https://localhost:8080/",
     "height": 35
    },
    "colab_type": "code",
    "id": "ObUqEHO5evwp",
    "outputId": "3933725e-43f8-4b53-f1da-781662e6b70e"
   },
   "outputs": [
    {
     "data": {
      "text/plain": [
       "(10000, 784)"
      ]
     },
     "execution_count": 38,
     "metadata": {
      "tags": []
     },
     "output_type": "execute_result"
    }
   ],
   "source": [
    "X_test_scaled = (X_test - mean_px)/std_px\n",
    "X_test_scaled.shape"
   ]
  },
  {
   "cell_type": "code",
   "execution_count": 39,
   "metadata": {
    "colab": {
     "base_uri": "https://localhost:8080/",
     "height": 35
    },
    "colab_type": "code",
    "id": "lNKZewxEevws",
    "outputId": "c5796868-399d-46b2-c6a5-b51b6a900e70"
   },
   "outputs": [
    {
     "name": "stdout",
     "output_type": "stream",
     "text": [
      "('Min and Max of test set: ', 3.245159713335499, -1.779012025963416)\n"
     ]
    }
   ],
   "source": [
    "print('Min and Max of test set: ', np.max(X_test_scaled), np.min(X_test_scaled))"
   ]
  },
  {
   "cell_type": "code",
   "execution_count": 40,
   "metadata": {
    "colab": {
     "base_uri": "https://localhost:8080/",
     "height": 35
    },
    "colab_type": "code",
    "id": "AYqktRjievwv",
    "outputId": "27e3562b-86b2-4bcf-9637-fb13a74938de"
   },
   "outputs": [
    {
     "data": {
      "text/plain": [
       "(50000, 28, 28, 1)"
      ]
     },
     "execution_count": 40,
     "metadata": {
      "tags": []
     },
     "output_type": "execute_result"
    }
   ],
   "source": [
    "# The input tensor has to be 4D\n",
    "X_train_scaled = X_train_scaled.reshape(-1, 28,28,1)\n",
    "X_train_scaled.shape"
   ]
  },
  {
   "cell_type": "code",
   "execution_count": 41,
   "metadata": {
    "colab": {
     "base_uri": "https://localhost:8080/",
     "height": 35
    },
    "colab_type": "code",
    "id": "mMb-ZFaEevwx",
    "outputId": "935a822f-6d68-4998-df0b-321f563b77e3"
   },
   "outputs": [
    {
     "data": {
      "text/plain": [
       "(10000, 28, 28, 1)"
      ]
     },
     "execution_count": 41,
     "metadata": {
      "tags": []
     },
     "output_type": "execute_result"
    }
   ],
   "source": [
    "X_valid_scaled = X_valid_scaled.reshape(-1, 28,28,1)\n",
    "X_valid_scaled.shape"
   ]
  },
  {
   "cell_type": "code",
   "execution_count": 42,
   "metadata": {
    "colab": {
     "base_uri": "https://localhost:8080/",
     "height": 35
    },
    "colab_type": "code",
    "id": "RuY6QMFlevw1",
    "outputId": "04ee6006-7651-4019-d827-5624208b5e33"
   },
   "outputs": [
    {
     "data": {
      "text/plain": [
       "(10000, 28, 28, 1)"
      ]
     },
     "execution_count": 42,
     "metadata": {
      "tags": []
     },
     "output_type": "execute_result"
    }
   ],
   "source": [
    "X_test_scaled = X_test_scaled.reshape(-1, 28,28,1)\n",
    "X_test_scaled.shape"
   ]
  },
  {
   "cell_type": "code",
   "execution_count": 0,
   "metadata": {
    "colab": {},
    "colab_type": "code",
    "id": "dPRtSqF_evxC"
   },
   "outputs": [],
   "source": []
  },
  {
   "cell_type": "markdown",
   "metadata": {
    "colab_type": "text",
    "id": "7h_pnbSxevxF"
   },
   "source": [
    "## Building CNN"
   ]
  },
  {
   "cell_type": "code",
   "execution_count": 0,
   "metadata": {
    "colab": {},
    "colab_type": "code",
    "id": "6xcecA8MevxL"
   },
   "outputs": [],
   "source": [
    "import tensorflow as tf"
   ]
  },
  {
   "cell_type": "code",
   "execution_count": 0,
   "metadata": {
    "colab": {},
    "colab_type": "code",
    "id": "rfmMsmDL3Pmm"
   },
   "outputs": [],
   "source": [
    "#if using python2.7\n",
    "from __future__ import division"
   ]
  },
  {
   "cell_type": "code",
   "execution_count": 45,
   "metadata": {
    "colab": {
     "base_uri": "https://localhost:8080/",
     "height": 178
    },
    "colab_type": "code",
    "id": "t5JRACMaevxN",
    "outputId": "d28356bc-96fe-4125-faf1-e91d1d9b1aa6"
   },
   "outputs": [
    {
     "name": "stdout",
     "output_type": "stream",
     "text": [
      "WARNING:tensorflow:From /usr/local/lib/python2.7/dist-packages/tensorflow/python/framework/op_def_library.py:263: colocate_with (from tensorflow.python.framework.ops) is deprecated and will be removed in a future version.\n",
      "Instructions for updating:\n",
      "Colocations handled automatically by placer.\n",
      "<tf.Variable 'layer1/_weights:0' shape=(5, 5, 2, 10) dtype=float32_ref>\n",
      "<tf.Variable 'layer1/_biases:0' shape=(10,) dtype=float32_ref>\n",
      "Tensor(\"layer1/Conv2D:0\", shape=(?, 28, 28, 10), dtype=float32)\n",
      "Tensor(\"layer1/preactivation:0\", shape=(?, 28, 28, 10), dtype=float32)\n",
      "Tensor(\"layer1/activation:0\", shape=(?, 28, 28, 10), dtype=float32)\n"
     ]
    }
   ],
   "source": [
    "def cnn_layer(input_tensor, kernel_size, nfeaturemaps, padding_mode = 'SAME', stride = (1,1,1,1), name='layer'):\n",
    "    \n",
    "    \"\"\" Function for a convolutional layer\"\"\"\n",
    "    \n",
    "    # stride: dimension must be the same as the input_tensor\n",
    "    \n",
    "    with tf.variable_scope(name): # scope for each cov layer\n",
    "        \n",
    "        shape = input_tensor.get_shape().as_list() \n",
    "        # batchsize x nrows x ncolumns x nchannels\n",
    "        \n",
    "        n_input_channels = shape[-1] # no. of input channels in the images\n",
    "        \n",
    "        kweights_shape = list(kernel_size) + [n_input_channels, nfeaturemaps]\n",
    "        # setting dimensions of the kernel tensor: nrows x ncols x ninputchannels x nfeaturemaps\n",
    "        \n",
    "        weights = tf.get_variable(name='_weights', shape = kweights_shape)\n",
    "        # default initializer is the Glorot initializer which requires float64\n",
    "        print(weights)\n",
    "        \n",
    "        biases = tf.get_variable(name = '_biases', initializer=tf.zeros(shape = [nfeaturemaps]))\n",
    "        # initializing biases which are added at the end after the convolution of the weight matrix with the input tensor\n",
    "        print(biases)\n",
    "        \n",
    "        conv_layer = tf.nn.conv2d(input = input_tensor, filter = weights, strides = stride, padding = padding_mode,\n",
    "                           data_format='NHWC')\n",
    "        # takes 4D input\n",
    "        print(conv_layer)\n",
    "        \n",
    "        conv_layer = tf.nn.bias_add(conv_layer, biases, name = 'preactivation')\n",
    "        # adding bias b to W*X\n",
    "        print(conv_layer)\n",
    "        \n",
    "        conv_layer = tf.nn.relu(conv_layer, name = 'activation')\n",
    "        print(conv_layer)\n",
    "        \n",
    "        return conv_layer  \n",
    "    \n",
    "\n",
    "# Testing    \n",
    "g = tf.Graph()\n",
    "with g.as_default():\n",
    "    \n",
    "    x = tf.placeholder(dtype = tf.float32, shape = (None, 28,28,2), name = 'x')\n",
    "    # the dtype of input feed, weights and biases need to be the same.\n",
    "    \n",
    "    conv_layer = cnn_layer(x, (5,5), 10, 'SAME', (1,1,1,1), 'layer1')\n",
    "\n",
    "del g, x "
   ]
  },
  {
   "cell_type": "code",
   "execution_count": 0,
   "metadata": {
    "colab": {},
    "colab_type": "code",
    "id": "gjigKrR3evxO"
   },
   "outputs": [],
   "source": []
  },
  {
   "cell_type": "code",
   "execution_count": 0,
   "metadata": {
    "colab": {},
    "colab_type": "code",
    "id": "QBkaJEV7evxQ"
   },
   "outputs": [],
   "source": [
    "def pooling_layer(conv_tensor, ksize = [1,2,2,1], strides = [1,2,2,1], padding = 'SAME'):\n",
    "    \n",
    "    \"\"\"Pooling the convolutional layer\"\"\"\n",
    "       \n",
    "    # strides.shape = ksize.shape for non-overlapping pooling\n",
    "    \n",
    "    return tf.nn.max_pool(conv_tensor, ksize, strides, padding = 'SAME')       "
   ]
  },
  {
   "cell_type": "code",
   "execution_count": 47,
   "metadata": {
    "colab": {
     "base_uri": "https://localhost:8080/",
     "height": 105
    },
    "colab_type": "code",
    "id": "TyPRxSDsevxS",
    "outputId": "f9bf54bd-46e0-4efa-9e13-60b7ab0e999b"
   },
   "outputs": [
    {
     "name": "stdout",
     "output_type": "stream",
     "text": [
      "<tf.Variable 'layer_1/_weights:0' shape=(1568, 10) dtype=float32_ref>\n",
      "<tf.Variable 'layer_1/_biases:0' shape=(10,) dtype=float32_ref>\n",
      "Tensor(\"layer_1/MatMul:0\", shape=(?, 10), dtype=float32)\n",
      "Tensor(\"layer_1/preactivation:0\", shape=(?, 10), dtype=float32)\n",
      "Tensor(\"layer_1/activation:0\", shape=(?, 10), dtype=float32)\n"
     ]
    }
   ],
   "source": [
    "def fully_connected_layer(input_tensor, n_output_units, name, activation_fn = None):\n",
    "\n",
    "    \"\"\"Defining the fully connected layer\"\"\"\n",
    "      \n",
    "    with tf.variable_scope(name):\n",
    "            \n",
    "        input_shape = input_tensor.get_shape().as_list()\n",
    "       \n",
    "        unit_shape = input_shape[1:]\n",
    "        # Shape of the input tensor to the fully connected layer. \n",
    "        # should be: batch_size x no. of units\n",
    "        # Need to check if the input tensor is flattened\n",
    "                     \n",
    "        n_input_units = np.prod(unit_shape)\n",
    "        \n",
    "        if(len(unit_shape) > 1):\n",
    "            input_tensor = tf.reshape(input_tensor, shape = (-1, n_input_units))\n",
    "        \n",
    "        weights = tf.get_variable(name = '_weights', shape = [n_input_units, n_output_units])\n",
    "        print(weights)\n",
    "        \n",
    "        biases = tf.get_variable(name = '_biases', initializer = tf.zeros(shape = [n_output_units]))\n",
    "        print(biases)\n",
    "        \n",
    "        perceptron = tf.matmul(input_tensor, weights)\n",
    "        print(perceptron)\n",
    "        \n",
    "        perceptron = tf.nn.bias_add(perceptron, biases, name='preactivation')\n",
    "        print(perceptron)\n",
    "        \n",
    "        if activation_fn is None:\n",
    "            return perceptron\n",
    "        \n",
    "        perceptron = activation_fn(perceptron, name = 'activation')\n",
    "        print(perceptron)\n",
    "        \n",
    "                \n",
    "        return perceptron\n",
    "\n",
    "# Testing\n",
    "g = tf.Graph()\n",
    "\n",
    "with g.as_default():\n",
    "    \n",
    "    x = tf.placeholder(dtype = tf.float32, shape = (None, 28,28,2), name = 'x')\n",
    "    \n",
    "    fc_layer = fully_connected_layer(x, 10, 'layer_1', activation_fn=tf.nn.relu)\n",
    "\n",
    "del g, x "
   ]
  },
  {
   "cell_type": "code",
   "execution_count": 48,
   "metadata": {
    "colab": {
     "base_uri": "https://localhost:8080/",
     "height": 939
    },
    "colab_type": "code",
    "id": "rO7NAnQLevxa",
    "outputId": "60e4d93e-e596-490f-cd5f-e9826d650a7d"
   },
   "outputs": [
    {
     "name": "stdout",
     "output_type": "stream",
     "text": [
      "\n",
      "Building 1st convolution layer: \n",
      "<tf.Variable 'conv1/_weights:0' shape=(5, 5, 1, 32) dtype=float32_ref>\n",
      "<tf.Variable 'conv1/_biases:0' shape=(32,) dtype=float32_ref>\n",
      "Tensor(\"conv1/Conv2D:0\", shape=(?, 24, 24, 32), dtype=float32)\n",
      "Tensor(\"conv1/preactivation:0\", shape=(?, 24, 24, 32), dtype=float32)\n",
      "Tensor(\"conv1/activation:0\", shape=(?, 24, 24, 32), dtype=float32)\n",
      "\n",
      "Max pooling the 1st convolution layer:\n",
      "\n",
      "Building 2nd convolution layer: \n",
      "<tf.Variable 'conv2/_weights:0' shape=(5, 5, 32, 64) dtype=float32_ref>\n",
      "<tf.Variable 'conv2/_biases:0' shape=(64,) dtype=float32_ref>\n",
      "Tensor(\"conv2/Conv2D:0\", shape=(?, 8, 8, 64), dtype=float32)\n",
      "Tensor(\"conv2/preactivation:0\", shape=(?, 8, 8, 64), dtype=float32)\n",
      "Tensor(\"conv2/activation:0\", shape=(?, 8, 8, 64), dtype=float32)\n",
      "\n",
      "Max pooling the 2nd convolution layer:\n",
      "\n",
      "Building the 1st fully connected layer:\n",
      "<tf.Variable 'fc1/_weights:0' shape=(1024, 1024) dtype=float32_ref>\n",
      "<tf.Variable 'fc1/_biases:0' shape=(1024,) dtype=float32_ref>\n",
      "Tensor(\"fc1/MatMul:0\", shape=(?, 1024), dtype=float32)\n",
      "Tensor(\"fc1/preactivation:0\", shape=(?, 1024), dtype=float32)\n",
      "Tensor(\"fc1/activation:0\", shape=(?, 1024), dtype=float32)\n",
      "WARNING:tensorflow:From <ipython-input-48-45d57507beb6>:37: calling dropout (from tensorflow.python.ops.nn_ops) with keep_prob is deprecated and will be removed in a future version.\n",
      "Instructions for updating:\n",
      "Please use `rate` instead of `keep_prob`. Rate should be set to `rate = 1 - keep_prob`.\n",
      "\n",
      "Building the 2nd fully connected layer:\n",
      "<tf.Variable 'fc2/_weights:0' shape=(1024, 10) dtype=float32_ref>\n",
      "<tf.Variable 'fc2/_biases:0' shape=(10,) dtype=float32_ref>\n",
      "Tensor(\"fc2/MatMul:0\", shape=(?, 10), dtype=float32)\n",
      "Tensor(\"fc2/preactivation:0\", shape=(?, 10), dtype=float32)\n",
      "Tensor(\"probability:0\", shape=(?, 10), dtype=float32)\n",
      "Tensor(\"label:0\", shape=(?,), dtype=int32)\n",
      "Tensor(\"cross_entropy_loss:0\", shape=(), dtype=float32)\n",
      "name: \"training\"\n",
      "op: \"NoOp\"\n",
      "input: \"^training/update_conv1/_weights/ApplyAdam\"\n",
      "input: \"^training/update_conv1/_biases/ApplyAdam\"\n",
      "input: \"^training/update_conv2/_weights/ApplyAdam\"\n",
      "input: \"^training/update_conv2/_biases/ApplyAdam\"\n",
      "input: \"^training/update_fc1/_weights/ApplyAdam\"\n",
      "input: \"^training/update_fc1/_biases/ApplyAdam\"\n",
      "input: \"^training/update_fc2/_weights/ApplyAdam\"\n",
      "input: \"^training/update_fc2/_biases/ApplyAdam\"\n",
      "input: \"^training/Assign\"\n",
      "input: \"^training/Assign_1\"\n",
      "\n",
      "Tensor(\"accuracy:0\", shape=(), dtype=float32)\n"
     ]
    }
   ],
   "source": [
    "def cnn_build(learning_rate = 1e-4):\n",
    "    \"\"\"Building CNN\"\"\"\n",
    "    \n",
    "    # Placeholders for x and y\n",
    "    ts_x = tf.placeholder(tf.float32, shape =(None, 28, 28, 1), name = 'ts_x')\n",
    "    ts_y = tf.placeholder(tf.int32, shape = (None), name = 'ts_y')\n",
    "    \n",
    "    # encoding y values\n",
    "    y_onehot = tf.one_hot(indices= ts_y, depth = len(y_unique), dtype = tf.float32, name = 'y_onehot')\n",
    "    \n",
    "    \n",
    "    # 1st Convolution layer\n",
    "    print('\\nBuilding 1st convolution layer: ')\n",
    "    conv1 = cnn_layer(input_tensor=ts_x, kernel_size=(5,5), nfeaturemaps=32, padding_mode='VALID', stride=(1,1,1,1),\n",
    "                     name='conv1')\n",
    "    \n",
    "    # Pooling layer\n",
    "    print('\\nMax pooling the 1st convolution layer:')\n",
    "    conv1_pool = pooling_layer(conv1, ksize=[1,2,2,1], strides=[1,2,2,1], padding = 'SAME')\n",
    "    \n",
    "    # 2nd Convolution layer\n",
    "    print('\\nBuilding 2nd convolution layer: ')\n",
    "    conv2 = cnn_layer(input_tensor=conv1_pool, kernel_size=(5,5), nfeaturemaps=64, padding_mode='VALID', stride=(1,1,1,1),\n",
    "                     name='conv2')\n",
    "    \n",
    "    # Pooling layer\n",
    "    print('\\nMax pooling the 2nd convolution layer:')\n",
    "    conv2_pool = pooling_layer(conv2, ksize=[1,2,2,1], strides=[1,2,2,1], padding = 'SAME')\n",
    "    \n",
    "    \n",
    "    # 1st Fully Connected layer\n",
    "    print('\\nBuilding the 1st fully connected layer:')\n",
    "    fc1 = fully_connected_layer(conv2_pool, n_output_units=1024, activation_fn=tf.nn.relu, name = 'fc1')\n",
    "    \n",
    "    # Implement Dropout to improve the robustness of the fitting\n",
    "    keep_prob = tf.placeholder(tf.float32, shape = [], name = 'fc1_keep_prob')\n",
    "    fc1_drop = tf.nn.dropout(fc1, keep_prob=keep_prob, name = 'fc1_dropout_layer')\n",
    "    \n",
    "    # 2nd Fully Connected layer\n",
    "    print('\\nBuilding the 2nd fully connected layer:')\n",
    "    fc2 = fully_connected_layer(fc1_drop, n_output_units=len(y_unique), name = 'fc2', activation_fn=None)\n",
    "    \n",
    "    # Deriving the predicted label probability as the output\n",
    "    label_prob = tf.nn.softmax(fc2, name='probability')\n",
    "    print(label_prob)\n",
    "    \n",
    "    # Deriving the predicted label\n",
    "    label = tf.cast(tf.argmax(fc2, axis = 1), tf.int32, name = 'label')\n",
    "    print(label)\n",
    "    \n",
    "    # Loss function\n",
    "    loss_func = tf.reduce_mean(tf.nn.softmax_cross_entropy_with_logits_v2(labels = y_onehot, logits = fc2),\n",
    "                                                                          name = 'cross_entropy_loss')\n",
    "    print(loss_func)\n",
    "    \n",
    "    # Optimizer\n",
    "    optimizer = tf.train.AdamOptimizer(learning_rate=learning_rate)\n",
    "    optimizer = optimizer.minimize(loss_func, name='training')\n",
    "    print(optimizer)\n",
    "    \n",
    "    # Calculating the prediction accuracy\n",
    "    correct_pred = tf.equal(label, ts_y, name='correct_predictions')\n",
    "    accuracy = tf.reduce_mean(tf.cast(correct_pred, tf.float32), name='accuracy')\n",
    "    print(accuracy)\n",
    "\n",
    "\n",
    "\n",
    "# Testing\n",
    "g = tf.Graph()\n",
    "with g.as_default():\n",
    "    cnn_build()\n",
    "del g"
   ]
  },
  {
   "cell_type": "code",
   "execution_count": 0,
   "metadata": {
    "colab": {},
    "colab_type": "code",
    "id": "AtHomO0fevxm"
   },
   "outputs": [],
   "source": [
    "def batch_gen(X_data, y_data, batch_size = 64, shuffle = False, random_seed = None):\n",
    "    \n",
    "    \"\"\"Function for yielding batch size data, which is shuffled, at each epoch\"\"\"\n",
    "    \n",
    "    data_size =  y_data.shape[0]\n",
    "    idx = np.arange(data_size)\n",
    "    \n",
    "    if shuffle:\n",
    "        shuffler = np.random.RandomState(seed = random_seed)\n",
    "        shuffler.shuffle(idx)\n",
    "        X_data = X_data[idx]\n",
    "        y_data = y_data[idx]\n",
    "    \n",
    "    for i in range(0, data_size, batch_size):        \n",
    "        yield [X_data[i: i+batch_size], y_data[i: i+batch_size]]"
   ]
  },
  {
   "cell_type": "code",
   "execution_count": 0,
   "metadata": {
    "colab": {},
    "colab_type": "code",
    "id": "YIj5Bfz1evxw"
   },
   "outputs": [],
   "source": [
    "def train_model(session, training_data, validation_data = None, batch_size = 64, \n",
    "                initialize_var = True, shuffle = True, dropout = 0.5, epochs = 20,\n",
    "               random_seed = None):\n",
    "    \n",
    "    \"\"\"Function for training the model\"\"\"\n",
    "    # X should be of the image shape, i.e. whatever the shape is at the end of preprocessing\n",
    "    \n",
    "    \n",
    "    X = training_data[0]\n",
    "    y = training_data[1]\n",
    "    \n",
    "    training_loss = []\n",
    "    valid_acc = []\n",
    "    \n",
    "    # initialize variables\n",
    "    if initialize_var:\n",
    "        session.run(tf.global_variables_initializer())\n",
    "        \n",
    "    for epoch in range(1, epochs+1):\n",
    "    \n",
    "        batch_data = batch_gen(X, y, batch_size,shuffle=shuffle, random_seed=None)\n",
    "        # Setting up batch generator for each epoch. At each epoch, the data is shuffled differently.\n",
    "        # The random_seed needs to be None for this.\n",
    "        \n",
    "        avg_loss = 0.0\n",
    "        for i, (batch_x, batch_y) in enumerate(batch_data):\n",
    "            \n",
    "            feed = {'ts_x:0': batch_x, 'ts_y:0': batch_y, 'fc1_keep_prob:0': dropout}\n",
    "            # setting up the batch feed\n",
    "            \n",
    "            loss, _ = session.run(['cross_entropy_loss:0', 'training'], feed_dict = feed)\n",
    "            # evaluating cross_entropy_loss for real-time plotting of average loss in each batch, and training.\n",
    "            \n",
    "            avg_loss += loss\n",
    "            # Summing up total loss for the whole dataset\n",
    "            \n",
    "        training_loss.append(avg_loss)\n",
    "        # Collecting training loss for each epoch\n",
    "        \n",
    "        print('Epoch: %02d Average Training Loss: %7.3f' % (epoch, avg_loss))\n",
    "        \n",
    "         \n",
    "        if validation_data is not None: \n",
    "            # Checking to see if validation data is not null\n",
    "            \n",
    "            valid_feed = {'ts_x:0': validation_data[0], 'ts_y:0': validation_data[1], 'fc1_keep_prob:0': 1}\n",
    "            # preparing validation_data feed\n",
    "            \n",
    "            valid_acc.append(session.run('accuracy:0', feed_dict = feed)) \n",
    "            # Calculating accuracy of the model on validation data\n",
    "            print('Validation data accuracy: %7.3f' % valid_acc[-1])\n",
    "        \n",
    "        else:\n",
    "            print('\\n')\n",
    "    return [training_loss, valid_acc]\n",
    "    "
   ]
  },
  {
   "cell_type": "code",
   "execution_count": 0,
   "metadata": {
    "colab": {},
    "colab_type": "code",
    "id": "yEdXhxXSevxz"
   },
   "outputs": [],
   "source": [
    "def prediction(session, x_test_data, prob_values = False):\n",
    "    \n",
    "    \"\"\"Function for evaluating the model on test data\"\"\"\n",
    "        \n",
    "    feed = {'ts_x:0' : x_test_data, 'fc1_keep_prob:0':1}\n",
    "    # preparing feed for the test_data\n",
    "    if prob_values:\n",
    "        return session.run('probability:0', feed_dict = feed)\n",
    "        # returns softmax probability values for each label\n",
    "    else:\n",
    "        return session.run('label:0', feed_dict = feed)\n",
    "        # returns the predicted label"
   ]
  },
  {
   "cell_type": "code",
   "execution_count": 0,
   "metadata": {
    "colab": {},
    "colab_type": "code",
    "id": "3oV0Uc__evx0"
   },
   "outputs": [],
   "source": [
    "import os\n",
    "\n",
    "def model_saver(saver, session, epoch, path = './model/'):\n",
    "    \n",
    "    \"\"\"Function for saving model in between epochs\"\"\"\n",
    "    \n",
    "    if not os.path.isdir(path):\n",
    "        os.makedirs(path)\n",
    "    print('Saving model in %s' % path)\n",
    "    saver.save(session, os.path.join(path, 'cnn_model.ckpt'), global_step = epoch)"
   ]
  },
  {
   "cell_type": "code",
   "execution_count": 0,
   "metadata": {
    "colab": {},
    "colab_type": "code",
    "id": "7zXRHxqOevx1"
   },
   "outputs": [],
   "source": [
    "def model_loader(saver, session, epoch, path):\n",
    "    \n",
    "    \"\"\"Function for loading a saved model\"\"\"\n",
    "    \n",
    "    print('Loading saved model at epoch %d from path %s' % (epoch, path))\n",
    "    saver.restore(session, os.path.join(path, 'cnn_model.ckpt-%d'% epoch))"
   ]
  },
  {
   "cell_type": "code",
   "execution_count": 0,
   "metadata": {
    "colab": {},
    "colab_type": "code",
    "id": "WigPlGO4evx4"
   },
   "outputs": [],
   "source": []
  },
  {
   "cell_type": "markdown",
   "metadata": {
    "colab_type": "text",
    "id": "BMbWV8fvevx6"
   },
   "source": [
    "## Training "
   ]
  },
  {
   "cell_type": "code",
   "execution_count": 54,
   "metadata": {
    "colab": {
     "base_uri": "https://localhost:8080/",
     "height": 866
    },
    "colab_type": "code",
    "id": "4ryaFafeevx6",
    "outputId": "6218cb2b-75ff-4732-87bd-3ba9d2f0f98f"
   },
   "outputs": [
    {
     "name": "stdout",
     "output_type": "stream",
     "text": [
      "\n",
      "Building 1st convolution layer: \n",
      "<tf.Variable 'conv1/_weights:0' shape=(5, 5, 1, 32) dtype=float32_ref>\n",
      "<tf.Variable 'conv1/_biases:0' shape=(32,) dtype=float32_ref>\n",
      "Tensor(\"conv1/Conv2D:0\", shape=(?, 24, 24, 32), dtype=float32)\n",
      "Tensor(\"conv1/preactivation:0\", shape=(?, 24, 24, 32), dtype=float32)\n",
      "Tensor(\"conv1/activation:0\", shape=(?, 24, 24, 32), dtype=float32)\n",
      "\n",
      "Max pooling the 1st convolution layer:\n",
      "\n",
      "Building 2nd convolution layer: \n",
      "<tf.Variable 'conv2/_weights:0' shape=(5, 5, 32, 64) dtype=float32_ref>\n",
      "<tf.Variable 'conv2/_biases:0' shape=(64,) dtype=float32_ref>\n",
      "Tensor(\"conv2/Conv2D:0\", shape=(?, 8, 8, 64), dtype=float32)\n",
      "Tensor(\"conv2/preactivation:0\", shape=(?, 8, 8, 64), dtype=float32)\n",
      "Tensor(\"conv2/activation:0\", shape=(?, 8, 8, 64), dtype=float32)\n",
      "\n",
      "Max pooling the 2nd convolution layer:\n",
      "\n",
      "Building the 1st fully connected layer:\n",
      "<tf.Variable 'fc1/_weights:0' shape=(1024, 1024) dtype=float32_ref>\n",
      "<tf.Variable 'fc1/_biases:0' shape=(1024,) dtype=float32_ref>\n",
      "Tensor(\"fc1/MatMul:0\", shape=(?, 1024), dtype=float32)\n",
      "Tensor(\"fc1/preactivation:0\", shape=(?, 1024), dtype=float32)\n",
      "Tensor(\"fc1/activation:0\", shape=(?, 1024), dtype=float32)\n",
      "\n",
      "Building the 2nd fully connected layer:\n",
      "<tf.Variable 'fc2/_weights:0' shape=(1024, 10) dtype=float32_ref>\n",
      "<tf.Variable 'fc2/_biases:0' shape=(10,) dtype=float32_ref>\n",
      "Tensor(\"fc2/MatMul:0\", shape=(?, 10), dtype=float32)\n",
      "Tensor(\"fc2/preactivation:0\", shape=(?, 10), dtype=float32)\n",
      "Tensor(\"probability:0\", shape=(?, 10), dtype=float32)\n",
      "Tensor(\"label:0\", shape=(?,), dtype=int32)\n",
      "Tensor(\"cross_entropy_loss:0\", shape=(), dtype=float32)\n",
      "name: \"training\"\n",
      "op: \"NoOp\"\n",
      "input: \"^training/update_conv1/_weights/ApplyAdam\"\n",
      "input: \"^training/update_conv1/_biases/ApplyAdam\"\n",
      "input: \"^training/update_conv2/_weights/ApplyAdam\"\n",
      "input: \"^training/update_conv2/_biases/ApplyAdam\"\n",
      "input: \"^training/update_fc1/_weights/ApplyAdam\"\n",
      "input: \"^training/update_fc1/_biases/ApplyAdam\"\n",
      "input: \"^training/update_fc2/_weights/ApplyAdam\"\n",
      "input: \"^training/update_fc2/_biases/ApplyAdam\"\n",
      "input: \"^training/Assign\"\n",
      "input: \"^training/Assign_1\"\n",
      "\n",
      "Tensor(\"accuracy:0\", shape=(), dtype=float32)\n"
     ]
    }
   ],
   "source": [
    "# Setting random_seed for reproducible results\n",
    "random_seed = 123\n",
    "np.random.seed(random_seed)\n",
    "\n",
    "g = tf.Graph()\n",
    "with g.as_default():\n",
    "    \n",
    "    tf.set_random_seed(random_seed)\n",
    "    # Setting the random seed for the tf\n",
    "    \n",
    "    cnn_build(learning_rate=.0001)\n",
    "    # building the cnn. Set the learning rate\n",
    "    \n",
    "    saver = tf.train.Saver()\n",
    "    # creating a model saver object"
   ]
  },
  {
   "cell_type": "code",
   "execution_count": 55,
   "metadata": {
    "colab": {
     "base_uri": "https://localhost:8080/",
     "height": 742
    },
    "colab_type": "code",
    "id": "ZZGnTiKZevx7",
    "outputId": "417b9be4-626f-4d01-dc66-b24e1a5f3ac2"
   },
   "outputs": [
    {
     "name": "stdout",
     "output_type": "stream",
     "text": [
      "Epoch: 01 Average Training Loss: 265.297\n",
      "Validation data accuracy:   0.875\n",
      "Epoch: 02 Average Training Loss:  71.960\n",
      "Validation data accuracy:   1.000\n",
      "Epoch: 03 Average Training Loss:  49.749\n",
      "Validation data accuracy:   0.938\n",
      "Epoch: 04 Average Training Loss:  38.888\n",
      "Validation data accuracy:   1.000\n",
      "Epoch: 05 Average Training Loss:  31.254\n",
      "Validation data accuracy:   1.000\n",
      "Epoch: 06 Average Training Loss:  26.667\n",
      "Validation data accuracy:   1.000\n",
      "Epoch: 07 Average Training Loss:  22.167\n",
      "Validation data accuracy:   1.000\n",
      "Epoch: 08 Average Training Loss:  19.199\n",
      "Validation data accuracy:   1.000\n",
      "Epoch: 09 Average Training Loss:  17.028\n",
      "Validation data accuracy:   1.000\n",
      "Epoch: 10 Average Training Loss:  15.232\n",
      "Validation data accuracy:   1.000\n",
      "Epoch: 11 Average Training Loss:  12.239\n",
      "Validation data accuracy:   1.000\n",
      "Epoch: 12 Average Training Loss:  10.602\n",
      "Validation data accuracy:   1.000\n",
      "Epoch: 13 Average Training Loss:  10.303\n",
      "Validation data accuracy:   1.000\n",
      "Epoch: 14 Average Training Loss:   8.166\n",
      "Validation data accuracy:   1.000\n",
      "Epoch: 15 Average Training Loss:   8.352\n",
      "Validation data accuracy:   1.000\n",
      "Epoch: 16 Average Training Loss:   6.997\n",
      "Validation data accuracy:   1.000\n",
      "Epoch: 17 Average Training Loss:   6.575\n",
      "Validation data accuracy:   1.000\n",
      "Epoch: 18 Average Training Loss:   5.584\n",
      "Validation data accuracy:   1.000\n",
      "Epoch: 19 Average Training Loss:   5.390\n",
      "Validation data accuracy:   1.000\n",
      "Epoch: 20 Average Training Loss:   4.417\n",
      "Validation data accuracy:   1.000\n",
      "Saving model in ./model/\n"
     ]
    }
   ],
   "source": [
    "with tf.Session(graph = g) as sess:\n",
    "    epochs = 20\n",
    "    train = train_model(session = sess, training_data = [X_train_scaled, y_train], \n",
    "                validation_data=[X_valid_scaled, y_valid], batch_size=64, \n",
    "               initialize_var=True, shuffle = True, dropout=0.5, epochs=epochs, random_seed=random_seed)\n",
    "    # Training the model on the data\n",
    "    \n",
    "    model_saver(saver = saver, session = sess, epoch=epochs)\n",
    "    # Saving the model"
   ]
  },
  {
   "cell_type": "code",
   "execution_count": 0,
   "metadata": {
    "colab": {},
    "colab_type": "code",
    "id": "3MUt80Jpmwle"
   },
   "outputs": [],
   "source": [
    "del g"
   ]
  },
  {
   "cell_type": "markdown",
   "metadata": {
    "colab_type": "text",
    "id": "2TKLceOPcZLJ"
   },
   "source": [
    "#### Plotting"
   ]
  },
  {
   "cell_type": "code",
   "execution_count": 57,
   "metadata": {
    "colab": {
     "base_uri": "https://localhost:8080/",
     "height": 401
    },
    "colab_type": "code",
    "id": "y-4lEcpeYRtV",
    "outputId": "cae7e9d9-1a52-462d-ef12-de8f5eb277fd"
   },
   "outputs": [
    {
     "data": {
      "image/png": "[encoded data removed]",
      "text/plain": [
       "<Figure size 576x396 with 2 Axes>"
      ]
     },
     "metadata": {
      "tags": []
     },
     "output_type": "display_data"
    }
   ],
   "source": [
    "fig3, ax3 = plt.subplots()\n",
    "ax3b=ax3.twinx()\n",
    "\n",
    "ax3.plot(range(1, epochs+1), train[0], 'b*-', lw = 1)\n",
    "ax3b.plot(range(1, epochs+1), train[1], 'r*-', lw = 1 )\n",
    "\n",
    "ax3.set_xlabel('Epochs')\n",
    "ax3.set_ylabel('Cross Entropy Loss', color = 'b')\n",
    "ax3b.set_ylabel('Validation Data Accuracy', color = 'r')\n",
    "\n",
    "ax3.set_xlim(1, epochs+1)\n",
    "ax3b.set_ylim((0,1))\n",
    "\n",
    "ax3.set_xticks(ticks = range(1, epochs+1))\n",
    "\n",
    "fig3.tight_layout()\n",
    "plt.show()"
   ]
  },
  {
   "cell_type": "markdown",
   "metadata": {
    "colab_type": "text",
    "id": "_B94UF2IrzB9"
   },
   "source": [
    "## Loading saved model for evaluating on test data"
   ]
  },
  {
   "cell_type": "code",
   "execution_count": 58,
   "metadata": {
    "colab": {
     "base_uri": "https://localhost:8080/",
     "height": 866
    },
    "colab_type": "code",
    "id": "JJMvupXEqY5Z",
    "outputId": "56551bbd-698f-42b3-e73c-9f605439de3b"
   },
   "outputs": [
    {
     "name": "stdout",
     "output_type": "stream",
     "text": [
      "\n",
      "Building 1st convolution layer: \n",
      "<tf.Variable 'conv1/_weights:0' shape=(5, 5, 1, 32) dtype=float32_ref>\n",
      "<tf.Variable 'conv1/_biases:0' shape=(32,) dtype=float32_ref>\n",
      "Tensor(\"conv1/Conv2D:0\", shape=(?, 24, 24, 32), dtype=float32)\n",
      "Tensor(\"conv1/preactivation:0\", shape=(?, 24, 24, 32), dtype=float32)\n",
      "Tensor(\"conv1/activation:0\", shape=(?, 24, 24, 32), dtype=float32)\n",
      "\n",
      "Max pooling the 1st convolution layer:\n",
      "\n",
      "Building 2nd convolution layer: \n",
      "<tf.Variable 'conv2/_weights:0' shape=(5, 5, 32, 64) dtype=float32_ref>\n",
      "<tf.Variable 'conv2/_biases:0' shape=(64,) dtype=float32_ref>\n",
      "Tensor(\"conv2/Conv2D:0\", shape=(?, 8, 8, 64), dtype=float32)\n",
      "Tensor(\"conv2/preactivation:0\", shape=(?, 8, 8, 64), dtype=float32)\n",
      "Tensor(\"conv2/activation:0\", shape=(?, 8, 8, 64), dtype=float32)\n",
      "\n",
      "Max pooling the 2nd convolution layer:\n",
      "\n",
      "Building the 1st fully connected layer:\n",
      "<tf.Variable 'fc1/_weights:0' shape=(1024, 1024) dtype=float32_ref>\n",
      "<tf.Variable 'fc1/_biases:0' shape=(1024,) dtype=float32_ref>\n",
      "Tensor(\"fc1/MatMul:0\", shape=(?, 1024), dtype=float32)\n",
      "Tensor(\"fc1/preactivation:0\", shape=(?, 1024), dtype=float32)\n",
      "Tensor(\"fc1/activation:0\", shape=(?, 1024), dtype=float32)\n",
      "\n",
      "Building the 2nd fully connected layer:\n",
      "<tf.Variable 'fc2/_weights:0' shape=(1024, 10) dtype=float32_ref>\n",
      "<tf.Variable 'fc2/_biases:0' shape=(10,) dtype=float32_ref>\n",
      "Tensor(\"fc2/MatMul:0\", shape=(?, 10), dtype=float32)\n",
      "Tensor(\"fc2/preactivation:0\", shape=(?, 10), dtype=float32)\n",
      "Tensor(\"probability:0\", shape=(?, 10), dtype=float32)\n",
      "Tensor(\"label:0\", shape=(?,), dtype=int32)\n",
      "Tensor(\"cross_entropy_loss:0\", shape=(), dtype=float32)\n",
      "name: \"training\"\n",
      "op: \"NoOp\"\n",
      "input: \"^training/update_conv1/_weights/ApplyAdam\"\n",
      "input: \"^training/update_conv1/_biases/ApplyAdam\"\n",
      "input: \"^training/update_conv2/_weights/ApplyAdam\"\n",
      "input: \"^training/update_conv2/_biases/ApplyAdam\"\n",
      "input: \"^training/update_fc1/_weights/ApplyAdam\"\n",
      "input: \"^training/update_fc1/_biases/ApplyAdam\"\n",
      "input: \"^training/update_fc2/_weights/ApplyAdam\"\n",
      "input: \"^training/update_fc2/_biases/ApplyAdam\"\n",
      "input: \"^training/Assign\"\n",
      "input: \"^training/Assign_1\"\n",
      "\n",
      "Tensor(\"accuracy:0\", shape=(), dtype=float32)\n"
     ]
    }
   ],
   "source": [
    "g2 = tf.Graph()\n",
    "\n",
    "with g2.as_default():\n",
    "    \n",
    "    cnn_build()\n",
    "    saver = tf.train.Saver()"
   ]
  },
  {
   "cell_type": "code",
   "execution_count": 0,
   "metadata": {
    "colab": {},
    "colab_type": "code",
    "id": "IUR6aCx9uMb9"
   },
   "outputs": [],
   "source": []
  },
  {
   "cell_type": "code",
   "execution_count": 59,
   "metadata": {
    "colab": {
     "base_uri": "https://localhost:8080/",
     "height": 161
    },
    "colab_type": "code",
    "id": "nnfZszG6q5eQ",
    "outputId": "86f04b85-40e4-4f4d-b89c-167d604e8e52"
   },
   "outputs": [
    {
     "name": "stdout",
     "output_type": "stream",
     "text": [
      "Loading saved model at epoch 20 from path ./model\n",
      "WARNING:tensorflow:From /usr/local/lib/python2.7/dist-packages/tensorflow/python/training/saver.py:1266: checkpoint_exists (from tensorflow.python.training.checkpoint_management) is deprecated and will be removed in a future version.\n",
      "Instructions for updating:\n",
      "Use standard file APIs to check for files with this prefix.\n",
      "INFO:tensorflow:Restoring parameters from ./model/cnn_model.ckpt-20\n",
      "<type 'numpy.ndarray'>\n",
      "Test data accuracy: 99.31\n"
     ]
    }
   ],
   "source": [
    "with tf.Session(graph=g2) as sess:\n",
    "    \n",
    "    model_loader(saver=saver, session = sess, epoch = epochs, path='./model')\n",
    "    \n",
    "    predictions = prediction(session = sess, x_test_data=X_test_scaled)\n",
    "    \n",
    "    #predictions[:10]\n",
    "    print(type(predictions))\n",
    "    \n",
    "    test_data_accuracy = np.sum(test_labels ==  predictions)\n",
    "    print('Test data accuracy: %.2f' % (test_data_accuracy/len(test_labels)*100))"
   ]
  },
  {
   "cell_type": "code",
   "execution_count": 0,
   "metadata": {
    "colab": {},
    "colab_type": "code",
    "id": "kw4bxi3Z25qi"
   },
   "outputs": [],
   "source": []
  },
  {
   "cell_type": "code",
   "execution_count": 0,
   "metadata": {
    "colab": {},
    "colab_type": "code",
    "id": "qnEUlWUd4CuB"
   },
   "outputs": [],
   "source": []
  }
 ],
 "metadata": {
  "colab": {
   "name": "MNIST_numbers_CNN.ipynb",
   "provenance": [],
   "version": "0.3.2"
  },
  "kernelspec": {
   "display_name": "Python (condapy36)",
   "language": "python",
   "name": "condapy36"
  },
  "language_info": {
   "codemirror_mode": {
    "name": "ipython",
    "version": 3
   },
   "file_extension": ".py",
   "mimetype": "text/x-python",
   "name": "python",
   "nbconvert_exporter": "python",
   "pygments_lexer": "ipython3",
   "version": "3.6.8"
  }
 },
 "nbformat": 4,
 "nbformat_minor": 1
}
